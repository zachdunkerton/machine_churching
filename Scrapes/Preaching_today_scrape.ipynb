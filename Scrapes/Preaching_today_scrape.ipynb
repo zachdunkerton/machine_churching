{
 "cells": [
  {
   "cell_type": "code",
   "execution_count": 1,
   "metadata": {},
   "outputs": [],
   "source": [
    "from get_page import simple_get\n",
    "import requests, json\n",
    "from bs4 import BeautifulSoup\n",
    "import re\n",
    "import json\n",
    "import os"
   ]
  },
  {
   "cell_type": "code",
   "execution_count": 4,
   "metadata": {},
   "outputs": [
    {
     "data": {
      "text/plain": [
       "<Response [200]>"
      ]
     },
     "execution_count": 4,
     "metadata": {},
     "output_type": "execute_result"
    }
   ],
   "source": [
    "s = requests.Session()\n",
    "\n",
    "params = {\n",
    "\"email\":\"kylesobus@gmail.com\",\n",
    "\"password\":\"Sermons\",\n",
    "\"login\":\"true\",\n",
    "\"action\":\"login\"\n",
    "}\n",
    "\n",
    "login_url = \"https://www.preachingtoday.com/system/social/ajax/login.html\"\n",
    "s.post(login_url, params=params)"
   ]
  },
  {
   "cell_type": "code",
   "execution_count": 17,
   "metadata": {},
   "outputs": [],
   "source": [
    "def get_sermon(url):\n",
    "    regex = re.compile('[^a-zA-Z\\d:.?! ]')\n",
    "    url = 'https://www.preachingtoday.com'+url\n",
    "    page = s.get(url);\n",
    "    html = BeautifulSoup(page.content, 'html.parser')\n",
    "    body = html.find(\"div\", {\"id\": \"body\"})\n",
    "    sermon = body.find(\"div\", {\"id\":\"articleBody\"}).findAll(\"p\")\n",
    "    sermon_text = \"\"\n",
    "    for p in sermon:\n",
    "        sermon_text+= p.text.strip()\n",
    "    summary = ''\n",
    "    if body.find(\"p\", {\"class\":\"deck\"}) is not None:\n",
    "        summary = body.find(\"p\", {\"class\":\"deck\"}).text\n",
    "    doc = {\n",
    "        \"title\":regex.sub('', body.find(\"h3\").text),\n",
    "        \"summary\":regex.sub('', summary),\n",
    "        \"author\":regex.sub('', body.find(\"div\", {\"class\":\"author-section\"}).find(\"a\").text),\n",
    "        \"year\":url.split('/')[5],\n",
    "        \"month\":url.split('/')[6],\n",
    "        \"text\": regex.sub('', sermon_text),\n",
    "    }\n",
    "    filename = doc['title'].replace(\" \", \"_\") + '.json'\n",
    "    filename = filename.replace(\"/\", \"\")\n",
    "    doc = json.dumps(doc)\n",
    "    \n",
    "    with open(filename,'w') as f:\n",
    "        f.write(doc)\n",
    "    print(filename)\n",
    "def get_series(url):\n",
    "    url = 'https://www.preachingtoday.com'+url\n",
    "    page = s.get(url)\n",
    "    html = BeautifulSoup(page.content, 'html.parser')\n",
    "    body = html.findAll(\"div\", {\"class\": \"result\"})\n",
    "    for div in body:\n",
    "        link = div.find('h4').find('a')['href']\n",
    "        get_sermon(link)"
   ]
  },
  {
   "cell_type": "code",
   "execution_count": 25,
   "metadata": {},
   "outputs": [
    {
     "name": "stdout",
     "output_type": "stream",
     "text": [
      "-------------- 2 Peter --------------\n",
      "Num Results:  9 1\n",
      "Unprovoked_Love.json\n",
      "The_Seven_Habits_of_Highly_Effective_Believers.json\n",
      "Inspiration.json\n",
      "Canonization.json\n",
      "Illumination.json\n",
      "Meditation.json\n",
      "Application.json\n",
      "Inspiration.json\n",
      "Is_Our_Church_a_Healthy_Church?.json\n",
      "What_About_That_Other_Bible.json\n",
      "Wholesome_Thinking.json\n",
      "The_End_of_the_World_as_We_Know_It.json\n",
      "Captured_by_the_Word.json\n",
      "Total number of sermons scraped:  9\n"
     ]
    }
   ],
   "source": [
    "#os.chdir('./../sermons/preachingtoday')\n",
    "query = {\n",
    "\"sourcename\":\"sermons\",\n",
    "\"type\":\"scripture\",\n",
    "\"query\":\"Genesis\",\n",
    "\"start\":1,\n",
    "}\n",
    "bible = [\"Genesis\",\"Exodus\",\"Leviticus\", \"Numbers\",\"Deuteronomy\", \"Joshua\", \"Judges\", \"Ruth\", \"1 Samuel\", \"2 Samuel\",\n",
    "        \"1 Kings\", \"2 Kings\", \"1 Chronicles\", \"2 Chronicles\", \"Ezra\", \"Nehemiah\", \"Esther\", \"Job\", \"Psalms\",\n",
    "        \"Proverbs\", \"Ecclesiastes\", \"Song of Songs\", \"Isaiah\", \"Jeremiah\", \"Lamentations\", \"Ezekiel\", \"Daniel\",\n",
    "        \"Hosea\", \"Joel\", \"Amos\", \"Obadiah\", \"Jonah\", \"Micah\", \"Nahum\", \"Habakkuk\", \"Zephaniah\", \"Haggai\",\"Zechariah\",\n",
    "        \"Malachi\", \"Matthew\", \"Mark\", \"Luke\", \"John\", \"Acts\", \"Romans\", \"1 Corinthians\", \"2 Corithians\", \"Galatians\",\n",
    "        \"Ephesians\", \"Philippians\", \"Colossians\", \"1 Thessalonians\", \"2 Thessalonians\", \"1 Timothy\", \"2 Timothy\",\n",
    "        \"Titus\", \"Philemon\", \"Hebrews\", \"James\", \"1 Peter\", \"2 Peter\", \"1 John\", \"2 John\", \"3 John\", \"Jude\", \"Revelation\"]\n",
    "total = 0\n",
    "for books in extra:\n",
    "    print(\"--------------\", books, \"--------------\")\n",
    "    start = 1\n",
    "    query_url = \"https://www.preachingtoday.com/search/ajax/search_response.html\"\n",
    "    query['query'] = books\n",
    "    data = s.get(query_url, params = query)\n",
    "    html = BeautifulSoup(data.content, 'html.parser')\n",
    "    num_results = int(html.find(\"span\", {\"class\": \"review-result\"}).text.split(\" \")[2])\n",
    "    print(\"Num Results: \", num_results, start)\n",
    "    total += num_results\n",
    "    while start < num_results:\n",
    "        query_url = \"https://www.preachingtoday.com/search/ajax/search_response.html\"\n",
    "        query['query'] = books\n",
    "        data = s.get(query_url, params = query)\n",
    "        html = BeautifulSoup(data.content, 'html.parser')\n",
    "        header = html.findAll('h3')\n",
    "        for h in header:\n",
    "            link = h.find(\"a\")\n",
    "            if link is not None:\n",
    "                if link['href'].find('sermon-series') > -1:\n",
    "                    get_series(link['href'])\n",
    "                else:\n",
    "                    get_sermon(link['href'])\n",
    "        if start+20 < num_results:\n",
    "            start +=20\n",
    "        elif start == num_results:\n",
    "            start = num_results +1\n",
    "        else:\n",
    "            start = num_results\n",
    "        query['start'] = start\n",
    "print(\"Total number of sermons scraped: \", total)"
   ]
  },
  {
   "cell_type": "code",
   "execution_count": 24,
   "metadata": {},
   "outputs": [],
   "source": [
    "extra = ['2 Peter']"
   ]
  },
  {
   "cell_type": "code",
   "execution_count": 46,
   "metadata": {},
   "outputs": [],
   "source": [
    "query = {\n",
    "\"sourcename\":\"sermons\",\n",
    "\"type\":\"scripture\",\n",
    "\"query\":\"Mark\",\n",
    "\"start\":1,\n",
    "}\n",
    "query_url = \"https://www.preachingtoday.com/search/ajax/search_response.html\"\n",
    "data = s.get(query_url, params = query)"
   ]
  },
  {
   "cell_type": "raw",
   "metadata": {},
   "source": [
    "os.getcwd()"
   ]
  },
  {
   "cell_type": "code",
   "execution_count": 27,
   "metadata": {},
   "outputs": [
    {
     "ename": "FileNotFoundError",
     "evalue": "[Errno 2] No such file or directory: ''",
     "output_type": "error",
     "traceback": [
      "\u001b[0;31m---------------------------------------------------------------------------\u001b[0m",
      "\u001b[0;31mFileNotFoundError\u001b[0m                         Traceback (most recent call last)",
      "\u001b[0;32m<ipython-input-27-ecf18678068f>\u001b[0m in \u001b[0;36m<module>\u001b[0;34m()\u001b[0m\n\u001b[1;32m      1\u001b[0m \u001b[0mcount\u001b[0m \u001b[0;34m=\u001b[0m \u001b[0;36m0\u001b[0m\u001b[0;34m\u001b[0m\u001b[0m\n\u001b[0;32m----> 2\u001b[0;31m \u001b[0;32mfor\u001b[0m \u001b[0mdoc\u001b[0m \u001b[0;32min\u001b[0m \u001b[0mos\u001b[0m\u001b[0;34m.\u001b[0m\u001b[0mlistdir\u001b[0m\u001b[0;34m(\u001b[0m\u001b[0;34m''\u001b[0m\u001b[0;34m)\u001b[0m\u001b[0;34m:\u001b[0m\u001b[0;34m\u001b[0m\u001b[0m\n\u001b[0m\u001b[1;32m      3\u001b[0m     \u001b[0mcount\u001b[0m \u001b[0;34m+=\u001b[0m\u001b[0;36m1\u001b[0m\u001b[0;34m\u001b[0m\u001b[0m\n\u001b[1;32m      4\u001b[0m \u001b[0mcount\u001b[0m\u001b[0;34m\u001b[0m\u001b[0m\n",
      "\u001b[0;31mFileNotFoundError\u001b[0m: [Errno 2] No such file or directory: ''"
     ]
    }
   ],
   "source": [
    "count = 0\n",
    "for doc in os.listdir(''):\n",
    "    count +=1\n",
    "count"
   ]
  },
  {
   "cell_type": "code",
   "execution_count": 26,
   "metadata": {},
   "outputs": [
    {
     "data": {
      "text/plain": [
       "'/Users/zdunkerton/Documents/data/machine_churching/sermons/preachingtoday'"
      ]
     },
     "execution_count": 26,
     "metadata": {},
     "output_type": "execute_result"
    }
   ],
   "source": [
    "os.getcwd()"
   ]
  },
  {
   "cell_type": "code",
   "execution_count": 69,
   "metadata": {},
   "outputs": [],
   "source": [
    "os.chdir('..')"
   ]
  },
  {
   "cell_type": "code",
   "execution_count": 16,
   "metadata": {},
   "outputs": [
    {
     "data": {
      "text/plain": [
       "'5. hello? world! Proverbs 4:23 '"
      ]
     },
     "execution_count": 16,
     "metadata": {},
     "output_type": "execute_result"
    }
   ],
   "source": [
    "regex = re.compile('[^a-zA-Z\\d:.?! ]')\n",
    "x = '$5(/. hello? world! Proverbs 4:23 /\\''\n",
    "x = regex.sub('', x)\n",
    "x"
   ]
  },
  {
   "cell_type": "code",
   "execution_count": null,
   "metadata": {},
   "outputs": [],
   "source": [
    "[^a-z\\d ]+/i"
   ]
  }
 ],
 "metadata": {
  "kernelspec": {
   "display_name": "Python 3",
   "language": "python",
   "name": "python3"
  },
  "language_info": {
   "codemirror_mode": {
    "name": "ipython",
    "version": 3
   },
   "file_extension": ".py",
   "mimetype": "text/x-python",
   "name": "python",
   "nbconvert_exporter": "python",
   "pygments_lexer": "ipython3",
   "version": "3.7.0"
  }
 },
 "nbformat": 4,
 "nbformat_minor": 2
}
