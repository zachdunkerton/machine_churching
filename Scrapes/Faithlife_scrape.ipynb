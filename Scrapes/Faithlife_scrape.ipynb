{
 "cells": [
  {
   "cell_type": "code",
   "execution_count": 1,
   "metadata": {},
   "outputs": [],
   "source": [
    "from get_page import simple_get\n",
    "import requests, json\n",
    "from bs4 import BeautifulSoup\n",
    "import re\n",
    "import json\n",
    "import os"
   ]
  },
  {
   "cell_type": "code",
   "execution_count": 10,
   "metadata": {},
   "outputs": [
    {
     "data": {
      "text/plain": [
       "<Response [408]>"
      ]
     },
     "execution_count": 10,
     "metadata": {},
     "output_type": "execute_result"
    }
   ],
   "source": [
    "s = requests.Session()\n",
    "\n",
    "params = {\n",
    "\"email\":\"zachdunkerton@gmail.com\",\n",
    "\"password\":\"Sermons\",\n",
    "}\n",
    "\n",
    "#headers = {\n",
    "#    \"Host\": \"sermons.faithlife.com\",\n",
    "#    \"Referer\": \"https://sermons.faithlife.com\",\n",
    "#    \"content-type\": \"application/json\",\n",
    "#    \"Origin\": \"https://sermons.faithlife.com\",\n",
    "#    \"User-Agent\": \"Mozilla/5.0 (Macintosh; Intel Mac OS X 10.14; rv:65.0) Gecko/20100101 Firefox/65.0\",\n",
    "#}\n",
    "\n",
    "login_url = \"https://sermons.faithlife.com/api/auth/signin\"\n",
    "s.post(login_url, params=params, headers = headers)\n"
   ]
  },
  {
   "cell_type": "code",
   "execution_count": 8,
   "metadata": {},
   "outputs": [],
   "source": [
    "headers = {\n",
    "\n",
    "}"
   ]
  },
  {
   "cell_type": "code",
   "execution_count": null,
   "metadata": {},
   "outputs": [],
   "source": []
  }
 ],
 "metadata": {
  "kernelspec": {
   "display_name": "Python 3",
   "language": "python",
   "name": "python3"
  },
  "language_info": {
   "codemirror_mode": {
    "name": "ipython",
    "version": 3
   },
   "file_extension": ".py",
   "mimetype": "text/x-python",
   "name": "python",
   "nbconvert_exporter": "python",
   "pygments_lexer": "ipython3",
   "version": "3.7.0"
  }
 },
 "nbformat": 4,
 "nbformat_minor": 2
}
