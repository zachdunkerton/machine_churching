{
 "cells": [
  {
   "cell_type": "code",
   "execution_count": null,
   "metadata": {},
   "outputs": [],
   "source": [
    "import sys\n",
    "import requests\n",
    "\n",
    "\n",
    "API_KEY = '{{ YOUR_API_KEY }}'\n",
    "API_URL = 'https://api.esv.org/v3/passage/text/'\n",
    "\n",
    "\n",
    "def get_esv_text(passage):\n",
    "    params = {\n",
    "        'q': passage,\n",
    "        'include-headings': False,\n",
    "        'include-footnotes': False,\n",
    "        'include-verse-numbers': False,\n",
    "        'include-short-copyright': False,\n",
    "        'include-passage-references': False\n",
    "    }\n",
    "\n",
    "    headers = {\n",
    "        'Authorization': 'Token %s' % API_KEY\n",
    "    }\n",
    "\n",
    "    response = requests.get(API_URL, params=params, headers=headers)\n",
    "\n",
    "    passages = response.json()['passages']\n",
    "\n",
    "    return passages[0].strip() if passages else 'Error: Passage not found'\n",
    "\n",
    "\n",
    "if __name__ == '__main__':\n",
    "    passage = ' '.join(sys.argv[1:])\n",
    "\n",
    "    if passage:\n",
    "        print(get_esv_text(passage))"
   ]
  }
 ],
 "metadata": {
  "kernelspec": {
   "display_name": "Python 3",
   "language": "python",
   "name": "python3"
  },
  "language_info": {
   "codemirror_mode": {
    "name": "ipython",
    "version": 3
   },
   "file_extension": ".py",
   "mimetype": "text/x-python",
   "name": "python",
   "nbconvert_exporter": "python",
   "pygments_lexer": "ipython3",
   "version": "3.6.0"
  }
 },
 "nbformat": 4,
 "nbformat_minor": 2
}
