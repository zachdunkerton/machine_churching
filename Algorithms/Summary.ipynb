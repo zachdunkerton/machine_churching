{
 "cells": [
  {
   "cell_type": "code",
   "execution_count": 2,
   "metadata": {},
   "outputs": [],
   "source": [
    "%matplotlib inline\n",
    "import os\n",
    "from sklearn.feature_extraction.text import TfidfVectorizer\n",
    "from nltk.stem.snowball import SnowballStemmer\n",
    "stemmer = SnowballStemmer(\"english\")\n",
    "import nltk\n",
    "import json\n",
    "from nltk.tokenize import sent_tokenize, word_tokenize\n",
    "import re\n",
    "from nltk.corpus import brown, stopwords\n",
    "from nltk.cluster.util import cosine_distance\n",
    "import numpy as np\n",
    "import networkx as nx\n",
    "import pandas as pd\n",
    "from sklearn.metrics.pairwise import cosine_similarity\n",
    "import pickle"
   ]
  },
  {
   "cell_type": "code",
   "execution_count": 3,
   "metadata": {},
   "outputs": [],
   "source": [
    "word_embeddings = {}\n",
    "f = open('../glove.6B.100d.txt', encoding='utf-8')\n",
    "for line in f:\n",
    "    values = line.split()\n",
    "    word = values[0]\n",
    "    coefs = np.asarray(values[1:], dtype='float32')\n",
    "    word_embeddings[word] = coefs\n",
    "f.close()"
   ]
  },
  {
   "cell_type": "code",
   "execution_count": 4,
   "metadata": {},
   "outputs": [],
   "source": [
    "with open('embeddings.pkl', 'rb') as handle:\n",
    "    word_embeddings = pickle.load(handle)"
   ]
  },
  {
   "cell_type": "code",
   "execution_count": 6,
   "metadata": {},
   "outputs": [],
   "source": [
    "def stem_words(doc):\n",
    "    stemmed_doc = ''\n",
    "    for w in doc.split(' '):\n",
    "        stemmed_doc += stemmer.stem(w) + ' '\n",
    "    return stemmed_doc\n",
    "def remove_stopwords(sen):\n",
    "    stop_words = stopwords.words('english')\n",
    "    sen_new = \" \".join([i for i in sen if i not in stop_words])\n",
    "    return sen_new"
   ]
  },
  {
   "cell_type": "code",
   "execution_count": 16,
   "metadata": {},
   "outputs": [],
   "source": [
    "data = []\n",
    "for sermon in os.listdir('./sermons/preachingtoday'):\n",
    "    f=open('./sermons/preachingtoday/'+ sermon, 'rb')\n",
    "    contents =f.read()\n",
    "    contents = json.loads(contents)\n",
    "    data.append(contents[\"text\"])"
   ]
  },
  {
   "cell_type": "code",
   "execution_count": 8,
   "metadata": {},
   "outputs": [],
   "source": [
    "f=open('../sermons/Charge that to my account.txt', \"r\")\n",
    "if f.mode == 'r':\n",
    "    cttma = f.read()\n",
    "regex = re.compile('[^a-zA-Z0-9.?!\\- ]')\n",
    "cttma = regex.sub('', cttma)\n",
    "#stemmed_doc = stem_words(cttma)\n",
    "og_sentences = sent_tokenize(cttma)\n",
    "sentences = sent_tokenize(cttma)"
   ]
  },
  {
   "cell_type": "code",
   "execution_count": 12,
   "metadata": {},
   "outputs": [],
   "source": [
    "# remove punctuations, numbers and special characters\n",
    "clean_sentences = pd.Series(sentences).str.replace(\"[^a-zA-Z]\", \" \")\n",
    "# make alphabets lowercase\n",
    "clean_sentences = [s.lower() for s in clean_sentences]\n",
    "# remove stopwords from the sentences\n",
    "clean_sentences = [remove_stopwords(r.split()) for r in clean_sentences]\n",
    "sentence_vectors = []\n",
    "for i in clean_sentences:\n",
    "    if len(i) != 0:\n",
    "        v = sum([word_embeddings.get(w, np.zeros((128,))) for w in i.split()])/(len(i.split())+0.001)\n",
    "    else:\n",
    "        v = np.zeros((128,))\n",
    "    sentence_vectors.append(v)\n",
    "# similarity matrix\n",
    "sim_mat = np.zeros([len(sentences), len(sentences)])\n",
    "for i in range(len(sentences)):\n",
    "    for j in range(len(sentences)):\n",
    "        if i != j:\n",
    "            sim_mat[i][j] = cosine_similarity(sentence_vectors[i].reshape(1,128), sentence_vectors[j].reshape(1,128))[0,0]"
   ]
  },
  {
   "cell_type": "code",
   "execution_count": 13,
   "metadata": {},
   "outputs": [
    {
     "name": "stdout",
     "output_type": "stream",
     "text": [
      "0 -->  And eventually after a couple of weeks of travel that probably felt like years Onesimus and Tychicus arrive in Colossae and Onesimus comes face to face with Philemon and hes probably terrified but he has this letter and it would be sealed with Pauls personal seal and its signed in Pauls hand so that Philemon would know its the real deal.\n",
      "1 -->  I thank my God always when I remember you in my prayers because I hear of your love and of the faith that you have toward the Lord Jesus and for all the saints and I pray that the sharing of your faith may become effective for the full knowledge of every good thing that is in us for the sake of Christ.\n",
      "2 -->  But they would likely have been slaves so to become a bishop seems unlikely... it makes sense that it might be our Onesimus the one who spent significant time with Paul during his imprisonment in Rome who would have gone back to Paul in Rome if Philemon received his letter and did the more than Paul even asked.\n",
      "3 -->  So its one thing to cover a dinner but its another thing to pay off someones debt owed due to reckless spending no ones jumping up to say charge that to my account...Except that you parents out there youre thinking that you might... right?\n",
      "4 -->  2 Cor 32 And just like Paul would have set his seal into the letter so that the recipient would know it was from him Jesus seals us with the Spirit just like it says in Ephesians In him you also when you heard the word of truth the gospel of your salvation and believed in him were sealed with the promised Holy Spirit Eph 113.\n",
      "5 -->  It made me think too that in the bible it sometimes happened that you would meet God and God would change your name to reflect your new life because youre changed one way or another when you meet him.\n",
      "6 -->  Throughout the Bible and maybe especially in Philemon God shows us what it means to be willing to take on the debt of another to be willing and ready to say charge that to my account.\n"
     ]
    }
   ],
   "source": [
    "nx_graph = nx.from_numpy_array(sim_mat)\n",
    "scores = nx.pagerank(nx_graph)\n",
    "ranked_sentences = sorted(((scores[i],s) for i,s in enumerate(og_sentences)), reverse=True)\n",
    "for i in range(7):\n",
    "    print(i, '--> ',ranked_sentences[i][1])"
   ]
  },
  {
   "cell_type": "code",
   "execution_count": null,
   "metadata": {},
   "outputs": [],
   "source": []
  }
 ],
 "metadata": {
  "kernelspec": {
   "display_name": "Python 3",
   "language": "python",
   "name": "python3"
  },
  "language_info": {
   "codemirror_mode": {
    "name": "ipython",
    "version": 3
   },
   "file_extension": ".py",
   "mimetype": "text/x-python",
   "name": "python",
   "nbconvert_exporter": "python",
   "pygments_lexer": "ipython3",
   "version": "3.7.0"
  }
 },
 "nbformat": 4,
 "nbformat_minor": 2
}
